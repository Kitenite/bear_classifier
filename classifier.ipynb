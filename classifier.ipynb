{
 "cells": [
  {
   "cell_type": "code",
   "execution_count": 29,
   "id": "69b5c16d",
   "metadata": {},
   "outputs": [],
   "source": [
    "# Setup\n",
    "from fastai.imports import *\n",
    "from fastai.vision.all import *\n",
    "from fastai.vision.widgets import *\n",
    "from ipywidgets import *"
   ]
  },
  {
   "cell_type": "code",
   "execution_count": 30,
   "id": "c4d50d1e",
   "metadata": {},
   "outputs": [],
   "source": [
    "# Get pickled model and predict\n",
    "path = Path()\n",
    "learner_inf = load_learner(path/\"export.pkl\")\n",
    "upload_button = widgets.FileUpload()\n",
    "\n",
    "# Display \n",
    "image_display = widgets.Output()\n",
    "pred_label = widgets.Label()\n"
   ]
  },
  {
   "cell_type": "code",
   "execution_count": 31,
   "id": "d7c8f18b",
   "metadata": {},
   "outputs": [],
   "source": [
    "# Predict image\n",
    "def predict_image(_):\n",
    "    image = PILImage.create(upload_button.data[-1])\n",
    "    image_display.clear_output()\n",
    "    with image_display: display(image.to_thumb(128,128))\n",
    "    pred, _, _ = learner_inf.predict(image)\n",
    "    pred_label.value = f\"Your classification is: {pred}\""
   ]
  },
  {
   "cell_type": "code",
   "execution_count": 32,
   "id": "cafe141c",
   "metadata": {},
   "outputs": [],
   "source": [
    "upload_button.observe(predict_image, names=['data'])"
   ]
  },
  {
   "cell_type": "code",
   "execution_count": 49,
   "id": "94641431",
   "metadata": {},
   "outputs": [
    {
     "data": {
      "application/vnd.jupyter.widget-view+json": {
       "model_id": "96f46acaaf0a41deb6c78954f68d3a2b",
       "version_major": 2,
       "version_minor": 0
      },
      "text/plain": [
       "VBox(children=(Label(value='Upload your image'), FileUpload(value={}, description='Upload'), Output(), Label(v…"
      ]
     },
     "metadata": {},
     "output_type": "display_data"
    }
   ],
   "source": [
    "box = VBox([\n",
    "    widgets.Label(\"Upload your image\"), \n",
    "    upload_button, \n",
    "    image_display, \n",
    "    pred_label\n",
    "])\n",
    "display(box)"
   ]
  }
 ],
 "metadata": {
  "kernelspec": {
   "display_name": "Python 3 (ipykernel)",
   "language": "python",
   "name": "python3"
  },
  "language_info": {
   "codemirror_mode": {
    "name": "ipython",
    "version": 3
   },
   "file_extension": ".py",
   "mimetype": "text/x-python",
   "name": "python",
   "nbconvert_exporter": "python",
   "pygments_lexer": "ipython3",
   "version": "3.8.8"
  }
 },
 "nbformat": 4,
 "nbformat_minor": 5
}
